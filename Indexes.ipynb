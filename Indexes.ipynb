{
  "nbformat": 4,
  "nbformat_minor": 0,
  "metadata": {
    "colab": {
      "provenance": []
    },
    "kernelspec": {
      "name": "python3",
      "display_name": "Python 3"
    },
    "language_info": {
      "name": "python"
    }
  },
  "cells": [
    {
      "cell_type": "code",
      "execution_count": null,
      "metadata": {
        "id": "1S_rqKYQcJ42"
      },
      "outputs": [],
      "source": [
        "import pandas as pd\n",
        "import numpy as np\n",
        "import matplotlib.pyplot as plt\n",
        "import seaborn as sns\n",
        "import scipy.stats as sts\n",
        "from math import *\n",
        "import glob\n",
        "from IPython.display import display\n",
        "# from scipy.linalg import block_diag"
      ]
    },
    {
      "cell_type": "code",
      "source": [
        "from google.colab import drive\n",
        "drive.mount('/content/drive')"
      ],
      "metadata": {
        "colab": {
          "base_uri": "https://localhost:8080/"
        },
        "id": "kjnuO3lqcOMG",
        "outputId": "dc470c91-dd8c-49cf-eaa0-7e4edd41caad"
      },
      "execution_count": null,
      "outputs": [
        {
          "output_type": "stream",
          "name": "stdout",
          "text": [
            "Drive already mounted at /content/drive; to attempt to forcibly remount, call drive.mount(\"/content/drive\", force_remount=True).\n"
          ]
        }
      ]
    },
    {
      "cell_type": "code",
      "source": [
        "# Сливаем таблицы в один дата фрейм\n",
        "names = glob.glob(r'/content/drive/MyDrive/Андан Проект/Данные индексов/*.csv',\\\n",
        "                  recursive=True)\n",
        "ticker_names = [x.replace('.csv', '').split()[-1] for x in names]\n",
        "merged = pd.read_csv(names[0])\n",
        "merged = merged.rename(str.lower, axis=1).rename(columns={' ime': 'time',\\\n",
        "                                                 'open': f'open_{ticker_names[0]}',\\\n",
        "                                                 'high': f'high_{ticker_names[0]}',\\\n",
        "                                                 'low': f'low_{ticker_names[0]}',\\\n",
        "                                                 'close': f'close_{ticker_names[0]}',\\\n",
        "                                                 'volume': f'volume_{ticker_names[0]}',\\\n",
        "                                                 })\n",
        "for i in range(1, len(names)):\n",
        "    df = pd.read_csv(names[i])\n",
        "    df = df.rename(str.lower, axis=1).rename(columns={' ime': 'time',\\\n",
        "                                                 'open': f'open_{ticker_names[i]}',\\\n",
        "                                                 'high': f'high_{ticker_names[i]}',\\\n",
        "                                                 'low': f'low_{ticker_names[i]}',\\\n",
        "                                                 'close': f'close_{ticker_names[i]}',\\\n",
        "                                                 'volume': f'volume_{ticker_names[i]}',\\\n",
        "                                                 })\n",
        "    merged = merged.merge(df, on='time')\n",
        "    df_indexes = merged"
      ],
      "metadata": {
        "id": "XKswdK_BcUqU"
      },
      "execution_count": null,
      "outputs": []
    },
    {
      "cell_type": "code",
      "source": [
        "df_indexes['time'] = pd.to_datetime(df_indexes['time'])"
      ],
      "metadata": {
        "id": "SZy4SNLwhp3t"
      },
      "execution_count": null,
      "outputs": []
    },
    {
      "cell_type": "code",
      "source": [
        "# Добавляем новый признак логарифмическая доходность за минуту\n",
        "for ticker_name in ticker_names:\n",
        "    df_indexes[f'log_return_{ticker_name}'] = np.log(df_indexes[f'open_{ticker_name}'].shift(1) / \\\n",
        "    df_indexes[f'open_{ticker_name}'])"
      ],
      "metadata": {
        "id": "vxdv7M-pLQNx"
      },
      "execution_count": null,
      "outputs": []
    },
    {
      "cell_type": "code",
      "source": [
        "# Провальная попытка сделать матрично\n",
        "# n, d = 390, 13\n",
        "# blocks = [np.ones((n, n)) * 1/n] * d\n",
        "# day_mean_matrix = block_diag(*blocks)[1:, :]\n",
        "# for ticker_name in ticker_names:\n",
        "#     np_mean_day_log_return = day_mean_matrix @ df_indexes[f'log_return_{ticker_name}'].to_numpy()\n",
        "#     print(np_mean_day_log_return)\n",
        "#     df_indexes[f'mean_day_log_return_{ticker_name}'] = pd.DataFrame(np_mean_day_log_return)"
      ],
      "metadata": {
        "id": "59xFxAxoj-IW"
      },
      "execution_count": null,
      "outputs": []
    },
    {
      "cell_type": "code",
      "source": [
        "df_indexes['open_QQQ'].corr(df_indexes['open_SPX'])"
      ],
      "metadata": {
        "id": "NNqgPWClz3TV",
        "colab": {
          "base_uri": "https://localhost:8080/"
        },
        "outputId": "9e8dc1a2-8edf-49de-aa4a-1a5abde9babd"
      },
      "execution_count": null,
      "outputs": [
        {
          "output_type": "execute_result",
          "data": {
            "text/plain": [
              "0.9831245751946432"
            ]
          },
          "metadata": {},
          "execution_count": 282
        }
      ]
    },
    {
      "cell_type": "code",
      "source": [
        "df_indexes['open_QQQ'].corr(df_indexes['open_SPY'])"
      ],
      "metadata": {
        "colab": {
          "base_uri": "https://localhost:8080/"
        },
        "id": "N_HSN5ToGW-m",
        "outputId": "4af3d592-b67d-4a2d-b4e1-58ceaa994402"
      },
      "execution_count": null,
      "outputs": [
        {
          "output_type": "execute_result",
          "data": {
            "text/plain": [
              "0.985977407698796"
            ]
          },
          "metadata": {},
          "execution_count": 283
        }
      ]
    },
    {
      "cell_type": "code",
      "source": [
        "df_indexes['open_SPX'].corr(df_indexes['open_SPY'])"
      ],
      "metadata": {
        "colab": {
          "base_uri": "https://localhost:8080/"
        },
        "id": "rVxiW0azzd8q",
        "outputId": "c084137f-0b4c-4243-902f-1c27db3ad383"
      },
      "execution_count": 10,
      "outputs": [
        {
          "output_type": "execute_result",
          "data": {
            "text/plain": [
              "0.9995977119568936"
            ]
          },
          "metadata": {},
          "execution_count": 10
        }
      ]
    },
    {
      "cell_type": "code",
      "source": [
        "# Добавляем новый признак минутная волатильность\n",
        "df_indexes['date'] = df_indexes['time'].apply(lambda x: x.floor('d'))\n",
        "for ticker_name in ticker_names:\n",
        "    df_std = df_indexes.groupby(pd.Grouper(key='time', freq='D'))\\\n",
        "     [f'log_return_{ticker_name}'].std()\n",
        "    df_std = df_std.reset_index()\n",
        "    df_std.rename(columns={'time': 'date', f'log_return_{ticker_name}':\\\n",
        "                           f'min_std_log_return_{ticker_name}'}, inplace=True)\n",
        "    df_indexes = df_indexes.merge(df_std, on='date', how='left')\n",
        "df_indexes.drop(columns='date', inplace=True)"
      ],
      "metadata": {
        "id": "CrNQFOYVjoJV"
      },
      "execution_count": null,
      "outputs": []
    },
    {
      "cell_type": "code",
      "source": [],
      "metadata": {
        "id": "3iOKhbEVrs0n"
      },
      "execution_count": null,
      "outputs": []
    }
  ]
}